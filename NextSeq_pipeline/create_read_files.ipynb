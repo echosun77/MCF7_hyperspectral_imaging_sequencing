{
 "cells": [
  {
   "cell_type": "code",
   "execution_count": 20,
   "metadata": {},
   "outputs": [],
   "source": [
    "import numpy as np\n",
    "import pandas as pd\n",
    "import os"
   ]
  },
  {
   "cell_type": "code",
   "execution_count": 32,
   "metadata": {},
   "outputs": [],
   "source": [
    "path = '/home/yike/projects/imaging-sequencing/data/20220201_NextSeq/220120_NS500799_0723_AHKJ5VAFX3/demuxed/'\n",
    "# R1: D9_S80_R1_001.fastq\n",
    "# R2: D9_S80_R2_001.fastq"
   ]
  },
  {
   "cell_type": "code",
   "execution_count": 33,
   "metadata": {},
   "outputs": [],
   "source": [
    "sample_ID = []\n",
    "for n in range(13)[3:]:\n",
    "    for l in ['C', 'D', 'E', 'F', 'G', 'H', 'I', 'J', 'K', 'L', 'M', 'N', 'O']:\n",
    "        sample_ID.append(l+str(n))"
   ]
  },
  {
   "cell_type": "code",
   "execution_count": 34,
   "metadata": {},
   "outputs": [],
   "source": [
    "df = pd.DataFrame(np.zeros((130, 3)), index=range(130), columns=['R1', 'R2', 'Sample_Name'])"
   ]
  },
  {
   "cell_type": "code",
   "execution_count": 35,
   "metadata": {},
   "outputs": [],
   "source": [
    "R1 = [os.path.join(path, sample + '_' + 'S' + str(i+1) + '_R1_001.fastq.gz') for i, sample in enumerate(sample_ID)]\n",
    "R2 = [os.path.join(path, sample + '_' + 'S' + str(i+1) + '_R2_001.fastq.gz') for i, sample in enumerate(sample_ID)]"
   ]
  },
  {
   "cell_type": "code",
   "execution_count": 37,
   "metadata": {},
   "outputs": [],
   "source": [
    "df['R1'] = R1\n",
    "df['R2'] = R2\n",
    "df['Sample'] = [sample + '_' + 'S' + str(i+1) for i, sample in enumerate(sample_ID)]"
   ]
  },
  {
   "cell_type": "code",
   "execution_count": 38,
   "metadata": {},
   "outputs": [],
   "source": [
    "df.to_csv('/home/yike/phd/cancer_cells_img_seq/data/20220201_NextSeq/read_files.tsv', sep='\\t', index=False)"
   ]
  },
  {
   "cell_type": "code",
   "execution_count": null,
   "metadata": {},
   "outputs": [],
   "source": []
  }
 ],
 "metadata": {
  "kernelspec": {
   "display_name": "Python 3 (ipykernel)",
   "language": "python",
   "name": "python3"
  },
  "language_info": {
   "codemirror_mode": {
    "name": "ipython",
    "version": 3
   },
   "file_extension": ".py",
   "mimetype": "text/x-python",
   "name": "python",
   "nbconvert_exporter": "python",
   "pygments_lexer": "ipython3",
   "version": "3.10.2"
  }
 },
 "nbformat": 4,
 "nbformat_minor": 4
}
