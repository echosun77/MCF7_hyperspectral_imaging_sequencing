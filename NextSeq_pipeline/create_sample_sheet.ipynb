{
 "cells": [
  {
   "cell_type": "code",
   "execution_count": 2,
   "metadata": {},
   "outputs": [],
   "source": [
    "import pandas as pd\n",
    "import numpy as np"
   ]
  },
  {
   "cell_type": "markdown",
   "metadata": {},
   "source": [
    "Sample sheet is different for different sequence kits\n",
    "Miseq: i7(index), i5(index2)\n",
    "NextSeq: i7(index), i5 reverse complement(index2)"
   ]
  },
  {
   "cell_type": "markdown",
   "metadata": {},
   "source": [
    "# create indices plate"
   ]
  },
  {
   "cell_type": "code",
   "execution_count": 3,
   "metadata": {
    "scrolled": true
   },
   "outputs": [],
   "source": [
    "i7 = pd.read_excel('/home/yike/phd/resources/indices_plate/i7_indices_Shruthi.xlsx')\n",
    "i5 = pd.read_excel('/home/yike/phd/resources/indices_plate/i5_indices.xlsx')"
   ]
  },
  {
   "cell_type": "code",
   "execution_count": 62,
   "metadata": {},
   "outputs": [],
   "source": [
    "from Bio.Seq import Seq\n",
    "i7s = [i[20: 32] for i in i7.head(24)['Primer Sequence to order']]\n",
    "i5s = [i for i in i5.head(16)['Index2 (i5)']]\n",
    "\n",
    "i7s_rc = [str(Seq(i[20: 32]).reverse_complement()) for i in i7.head(24)['Primer Sequence to order']]\n",
    "i5s_rc = [str(Seq(i).reverse_complement()) for i in i5.head(16)['Index2 (i5)']]\n",
    "\n",
    "i7s_name = ['CM_Ad2.' + str(i) + s[:8] for i, s in zip(range(25)[1:], i7s_rc)]\n",
    "i5s_name = ['FZi5_' + str(i) for i in range(17)[1:]]"
   ]
  },
  {
   "cell_type": "code",
   "execution_count": 56,
   "metadata": {
    "scrolled": true
   },
   "outputs": [],
   "source": [
    "df2 = pd.DataFrame(np.zeros((len(sample_ID), 8)), index = range(len(sample_ID)), columns=[\n",
    "    'Sample_ID', 'Sample_Name', \n",
    "    'index', 'I7_Index_ID', 'I7_reverse_complement',\n",
    "    'index2', 'I5_Index_ID', 'I5_reverse_complement',\n",
    "])"
   ]
  },
  {
   "cell_type": "code",
   "execution_count": 1,
   "metadata": {},
   "outputs": [],
   "source": [
    "sample_ID = []\n",
    "for n in range(25)[1:]:\n",
    "    for l in ['A', 'B', 'C', 'D', 'E', 'F', 'G', 'H', 'I', 'J', 'K', 'L', 'M', 'N', 'O', 'P']:\n",
    "        sample_ID.append(l+str(n))"
   ]
  },
  {
   "cell_type": "code",
   "execution_count": 68,
   "metadata": {},
   "outputs": [],
   "source": [
    "index = []\n",
    "I7_Index_ID = []\n",
    "I7_reverse_complement = []\n",
    "for i, j, k in zip(i7s_name, i7s, i7s_rc):\n",
    "    index += [i] * 16\n",
    "    I7_Index_ID += [j] * 16\n",
    "    I7_reverse_complement += [k] * 16"
   ]
  },
  {
   "cell_type": "code",
   "execution_count": 70,
   "metadata": {},
   "outputs": [],
   "source": [
    "df2['Sample_ID'] = sample_ID\n",
    "df2['Sample_Name'] = sample_ID\n",
    "df2['index'] = index\n",
    "df2['I7_Index_ID'] = I7_Index_ID\n",
    "df2['I7_reverse_complement'] = I7_reverse_complement\n",
    "\n",
    "df2['index2'] = i5s_name * 24\n",
    "df2['I5_Index_ID'] = i5s * 24\n",
    "df2['I5_reverse_complement'] = i5s_rc * 24"
   ]
  },
  {
   "cell_type": "code",
   "execution_count": 72,
   "metadata": {},
   "outputs": [],
   "source": [
    "df2.to_csv('/home/yike/phd/resources/indices_plate/indices_plate_202112.tsv', sep='\\t', index=False)"
   ]
  },
  {
   "cell_type": "markdown",
   "metadata": {},
   "source": [
    "# create sample_sheet"
   ]
  },
  {
   "cell_type": "code",
   "execution_count": 12,
   "metadata": {},
   "outputs": [],
   "source": [
    "sample_ID = []\n",
    "for n in range(3, 13):\n",
    "    for l in ['C', 'D', 'E', 'F', 'G', 'H', 'I', 'J', 'K', 'L', 'M', 'N', 'O']:\n",
    "        sample_ID.append(l+str(n))"
   ]
  },
  {
   "cell_type": "code",
   "execution_count": 13,
   "metadata": {},
   "outputs": [],
   "source": [
    "df = pd.DataFrame(np.zeros((130, 9)), index=range(130), columns = ['Sample_ID', 'Sample_Name', 'Sample_Plate', 'Sample_Well',\n",
    "       'Sample_Project', 'index', 'I7_Index_ID', 'index2', 'I5_Index_ID'])\n",
    "\n",
    "\n",
    "df2 = pd.read_csv('/home/yike/phd/resources/indices_plate/indices_plate_202112.tsv', sep='\\t')"
   ]
  },
  {
   "cell_type": "code",
   "execution_count": 14,
   "metadata": {},
   "outputs": [],
   "source": [
    "df['Sample_ID'] = sample_ID\n",
    "df['Sample_Name'] = sample_ID\n",
    "\n",
    "df['index'] = df2.set_index('Sample_ID').loc[sample_ID]['index'].tolist()\n",
    "df['I7_Index_ID'] = df2.set_index('Sample_ID').loc[sample_ID]['I7_Index_ID'].tolist()\n",
    "\n",
    "df['index2'] = df2.set_index('Sample_ID').loc[sample_ID]['I5_reverse_complement'].tolist()\n",
    "df['I5_Index_ID'] = df2.set_index('Sample_ID').loc[sample_ID]['I5_Index_ID'].tolist()\n",
    "\n",
    "df['Sample_Plate'] = 'MCF7'\n",
    "df['Sample_Well'] = '1:01'\n",
    "df['Sample_Project'] = 'XIE10110'"
   ]
  },
  {
   "cell_type": "code",
   "execution_count": 15,
   "metadata": {},
   "outputs": [],
   "source": [
    "df['Index_ID'] = [i[:-8] + '_' + j for i, j in zip(df['I7_Index_ID'], df['I5_Index_ID'])]\n",
    "\n",
    "df = df[['Sample_ID', 'Sample_Name', 'Sample_Plate', 'Sample_Well',\n",
    "       'Index_ID', 'index', 'index2'\n",
    "       ]]\n",
    "df['Sample_type'] = 'mRNA'\n",
    "df['Pair_ID'] = df['Index_ID']\n",
    "#df.to_csv('/home/yike/phd/cancer_cells_img_seq/data/20220201_NextSeq/SampleSheet_content.csv', sep=',', index=False)"
   ]
  },
  {
   "cell_type": "code",
   "execution_count": 17,
   "metadata": {},
   "outputs": [],
   "source": [
    "df.to_csv('/home/yike/phd/cancer_cells_img_seq/data/20220201_NextSeq/SampleSheet_content2.csv', sep=',', index=False)"
   ]
  },
  {
   "cell_type": "code",
   "execution_count": 16,
   "metadata": {},
   "outputs": [
    {
     "data": {
      "text/html": [
       "<div>\n",
       "<style scoped>\n",
       "    .dataframe tbody tr th:only-of-type {\n",
       "        vertical-align: middle;\n",
       "    }\n",
       "\n",
       "    .dataframe tbody tr th {\n",
       "        vertical-align: top;\n",
       "    }\n",
       "\n",
       "    .dataframe thead th {\n",
       "        text-align: right;\n",
       "    }\n",
       "</style>\n",
       "<table border=\"1\" class=\"dataframe\">\n",
       "  <thead>\n",
       "    <tr style=\"text-align: right;\">\n",
       "      <th></th>\n",
       "      <th>Sample_ID</th>\n",
       "      <th>Sample_Name</th>\n",
       "      <th>Sample_Plate</th>\n",
       "      <th>Sample_Well</th>\n",
       "      <th>Index_ID</th>\n",
       "      <th>index</th>\n",
       "      <th>index2</th>\n",
       "      <th>Sample_type</th>\n",
       "      <th>Pair_ID</th>\n",
       "    </tr>\n",
       "  </thead>\n",
       "  <tbody>\n",
       "    <tr>\n",
       "      <th>0</th>\n",
       "      <td>C3</td>\n",
       "      <td>C3</td>\n",
       "      <td>MCF7</td>\n",
       "      <td>1:01</td>\n",
       "      <td>CM_Ad2.3_FZi5_3</td>\n",
       "      <td>AGGCAGAAATCT</td>\n",
       "      <td>AAGATACAAGAG</td>\n",
       "      <td>mRNA</td>\n",
       "      <td>CM_Ad2.3_FZi5_3</td>\n",
       "    </tr>\n",
       "    <tr>\n",
       "      <th>1</th>\n",
       "      <td>D3</td>\n",
       "      <td>D3</td>\n",
       "      <td>MCF7</td>\n",
       "      <td>1:01</td>\n",
       "      <td>CM_Ad2.3_FZi5_4</td>\n",
       "      <td>AGGCAGAAATCT</td>\n",
       "      <td>TGCTGTTATTTG</td>\n",
       "      <td>mRNA</td>\n",
       "      <td>CM_Ad2.3_FZi5_4</td>\n",
       "    </tr>\n",
       "    <tr>\n",
       "      <th>2</th>\n",
       "      <td>E3</td>\n",
       "      <td>E3</td>\n",
       "      <td>MCF7</td>\n",
       "      <td>1:01</td>\n",
       "      <td>CM_Ad2.3_FZi5_5</td>\n",
       "      <td>AGGCAGAAATCT</td>\n",
       "      <td>GAGGATACACAT</td>\n",
       "      <td>mRNA</td>\n",
       "      <td>CM_Ad2.3_FZi5_5</td>\n",
       "    </tr>\n",
       "    <tr>\n",
       "      <th>3</th>\n",
       "      <td>F3</td>\n",
       "      <td>F3</td>\n",
       "      <td>MCF7</td>\n",
       "      <td>1:01</td>\n",
       "      <td>CM_Ad2.3_FZi5_6</td>\n",
       "      <td>AGGCAGAAATCT</td>\n",
       "      <td>TATGACTCGGAA</td>\n",
       "      <td>mRNA</td>\n",
       "      <td>CM_Ad2.3_FZi5_6</td>\n",
       "    </tr>\n",
       "    <tr>\n",
       "      <th>4</th>\n",
       "      <td>G3</td>\n",
       "      <td>G3</td>\n",
       "      <td>MCF7</td>\n",
       "      <td>1:01</td>\n",
       "      <td>CM_Ad2.3_FZi5_7</td>\n",
       "      <td>AGGCAGAAATCT</td>\n",
       "      <td>CCGCCCGCTCTA</td>\n",
       "      <td>mRNA</td>\n",
       "      <td>CM_Ad2.3_FZi5_7</td>\n",
       "    </tr>\n",
       "    <tr>\n",
       "      <th>...</th>\n",
       "      <td>...</td>\n",
       "      <td>...</td>\n",
       "      <td>...</td>\n",
       "      <td>...</td>\n",
       "      <td>...</td>\n",
       "      <td>...</td>\n",
       "      <td>...</td>\n",
       "      <td>...</td>\n",
       "      <td>...</td>\n",
       "    </tr>\n",
       "    <tr>\n",
       "      <th>125</th>\n",
       "      <td>K12</td>\n",
       "      <td>K12</td>\n",
       "      <td>MCF7</td>\n",
       "      <td>1:01</td>\n",
       "      <td>CM_Ad2.12_FZi5_11</td>\n",
       "      <td>GTAGAGGAATCT</td>\n",
       "      <td>CCTCACGCATCG</td>\n",
       "      <td>mRNA</td>\n",
       "      <td>CM_Ad2.12_FZi5_11</td>\n",
       "    </tr>\n",
       "    <tr>\n",
       "      <th>126</th>\n",
       "      <td>L12</td>\n",
       "      <td>L12</td>\n",
       "      <td>MCF7</td>\n",
       "      <td>1:01</td>\n",
       "      <td>CM_Ad2.12_FZi5_12</td>\n",
       "      <td>GTAGAGGAATCT</td>\n",
       "      <td>CAACTGATACAG</td>\n",
       "      <td>mRNA</td>\n",
       "      <td>CM_Ad2.12_FZi5_12</td>\n",
       "    </tr>\n",
       "    <tr>\n",
       "      <th>127</th>\n",
       "      <td>M12</td>\n",
       "      <td>M12</td>\n",
       "      <td>MCF7</td>\n",
       "      <td>1:01</td>\n",
       "      <td>CM_Ad2.12_FZi5_13</td>\n",
       "      <td>GTAGAGGAATCT</td>\n",
       "      <td>TCGGACTCCTCG</td>\n",
       "      <td>mRNA</td>\n",
       "      <td>CM_Ad2.12_FZi5_13</td>\n",
       "    </tr>\n",
       "    <tr>\n",
       "      <th>128</th>\n",
       "      <td>N12</td>\n",
       "      <td>N12</td>\n",
       "      <td>MCF7</td>\n",
       "      <td>1:01</td>\n",
       "      <td>CM_Ad2.12_FZi5_14</td>\n",
       "      <td>GTAGAGGAATCT</td>\n",
       "      <td>GGAAGATGTTGT</td>\n",
       "      <td>mRNA</td>\n",
       "      <td>CM_Ad2.12_FZi5_14</td>\n",
       "    </tr>\n",
       "    <tr>\n",
       "      <th>129</th>\n",
       "      <td>O12</td>\n",
       "      <td>O12</td>\n",
       "      <td>MCF7</td>\n",
       "      <td>1:01</td>\n",
       "      <td>CM_Ad2.12_FZi5_15</td>\n",
       "      <td>GTAGAGGAATCT</td>\n",
       "      <td>ATACGGAGAACG</td>\n",
       "      <td>mRNA</td>\n",
       "      <td>CM_Ad2.12_FZi5_15</td>\n",
       "    </tr>\n",
       "  </tbody>\n",
       "</table>\n",
       "<p>130 rows × 9 columns</p>\n",
       "</div>"
      ],
      "text/plain": [
       "    Sample_ID Sample_Name Sample_Plate Sample_Well           Index_ID  \\\n",
       "0          C3          C3         MCF7        1:01    CM_Ad2.3_FZi5_3   \n",
       "1          D3          D3         MCF7        1:01    CM_Ad2.3_FZi5_4   \n",
       "2          E3          E3         MCF7        1:01    CM_Ad2.3_FZi5_5   \n",
       "3          F3          F3         MCF7        1:01    CM_Ad2.3_FZi5_6   \n",
       "4          G3          G3         MCF7        1:01    CM_Ad2.3_FZi5_7   \n",
       "..        ...         ...          ...         ...                ...   \n",
       "125       K12         K12         MCF7        1:01  CM_Ad2.12_FZi5_11   \n",
       "126       L12         L12         MCF7        1:01  CM_Ad2.12_FZi5_12   \n",
       "127       M12         M12         MCF7        1:01  CM_Ad2.12_FZi5_13   \n",
       "128       N12         N12         MCF7        1:01  CM_Ad2.12_FZi5_14   \n",
       "129       O12         O12         MCF7        1:01  CM_Ad2.12_FZi5_15   \n",
       "\n",
       "            index        index2 Sample_type            Pair_ID  \n",
       "0    AGGCAGAAATCT  AAGATACAAGAG        mRNA    CM_Ad2.3_FZi5_3  \n",
       "1    AGGCAGAAATCT  TGCTGTTATTTG        mRNA    CM_Ad2.3_FZi5_4  \n",
       "2    AGGCAGAAATCT  GAGGATACACAT        mRNA    CM_Ad2.3_FZi5_5  \n",
       "3    AGGCAGAAATCT  TATGACTCGGAA        mRNA    CM_Ad2.3_FZi5_6  \n",
       "4    AGGCAGAAATCT  CCGCCCGCTCTA        mRNA    CM_Ad2.3_FZi5_7  \n",
       "..            ...           ...         ...                ...  \n",
       "125  GTAGAGGAATCT  CCTCACGCATCG        mRNA  CM_Ad2.12_FZi5_11  \n",
       "126  GTAGAGGAATCT  CAACTGATACAG        mRNA  CM_Ad2.12_FZi5_12  \n",
       "127  GTAGAGGAATCT  TCGGACTCCTCG        mRNA  CM_Ad2.12_FZi5_13  \n",
       "128  GTAGAGGAATCT  GGAAGATGTTGT        mRNA  CM_Ad2.12_FZi5_14  \n",
       "129  GTAGAGGAATCT  ATACGGAGAACG        mRNA  CM_Ad2.12_FZi5_15  \n",
       "\n",
       "[130 rows x 9 columns]"
      ]
     },
     "execution_count": 16,
     "metadata": {},
     "output_type": "execute_result"
    }
   ],
   "source": [
    "df"
   ]
  },
  {
   "cell_type": "code",
   "execution_count": null,
   "metadata": {},
   "outputs": [],
   "source": []
  }
 ],
 "metadata": {
  "kernelspec": {
   "display_name": "Python 3",
   "language": "python",
   "name": "python3"
  },
  "language_info": {
   "codemirror_mode": {
    "name": "ipython",
    "version": 3
   },
   "file_extension": ".py",
   "mimetype": "text/x-python",
   "name": "python",
   "nbconvert_exporter": "python",
   "pygments_lexer": "ipython3",
   "version": "3.8.5"
  }
 },
 "nbformat": 4,
 "nbformat_minor": 4
}
