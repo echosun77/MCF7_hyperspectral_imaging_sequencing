{
 "cells": [
  {
   "cell_type": "code",
   "execution_count": 2,
   "id": "latin-airfare",
   "metadata": {},
   "outputs": [],
   "source": [
    "import numpy as np\n",
    "import pandas as pd\n",
    "import os\n",
    "import cv2\n",
    "import h5py\n",
    "import matplotlib.pyplot as plt"
   ]
  },
  {
   "cell_type": "code",
   "execution_count": 2,
   "id": "mental-mathematics",
   "metadata": {},
   "outputs": [],
   "source": [
    "def read_image(fn):\n",
    "    with h5py.File(fn, 'r') as f:\n",
    "        print('Read metadata about excitation/emission lambdas')\n",
    "        keys = ['excitationWavelength', 'emission']\n",
    "        wls = {key: [] for key in keys}\n",
    "        for key in keys:\n",
    "            tmp = f['HAC_Image']['imageStruct']['protocol']['channel'][key]\n",
    "            n_colors = tmp.size\n",
    "            for i in range(n_colors):\n",
    "                tmpi = f[f[tmp[i, 0]][0, 0]][:, 0]\n",
    "                wl = int(tmpi.astype(dtype=np.uint8).tobytes().decode())\n",
    "                wls[key].append(wl)\n",
    "        wls['combo'] = []\n",
    "        for i in range(n_colors):\n",
    "            wls['combo'].append(\n",
    "                (wls['excitationWavelength'][i], wls['emission'][i]),\n",
    "                )\n",
    "\n",
    "        print('Read image data')\n",
    "        img = f['HAC_Image']['imageStruct']['data'][:, :, :]\n",
    "    return {\n",
    "        'data': img,\n",
    "        'wavelengths': wls['combo'],\n",
    "        'image': os.path.basename(fn).split('.')[0],\n",
    "    }"
   ]
  },
  {
   "cell_type": "markdown",
   "id": "subtle-mongolia",
   "metadata": {},
   "source": [
    "### mat files to npz files"
   ]
  },
  {
   "cell_type": "code",
   "execution_count": 6,
   "id": "acceptable-radio",
   "metadata": {
    "collapsed": true
   },
   "outputs": [
    {
     "name": "stdout",
     "output_type": "stream",
     "text": [
      "Read metadata about excitation/emission lambdas\n",
      "Read image data\n",
      "Read metadata about excitation/emission lambdas\n",
      "Read image data\n",
      "Read metadata about excitation/emission lambdas\n",
      "Read image data\n",
      "Read metadata about excitation/emission lambdas\n",
      "Read image data\n",
      "Read metadata about excitation/emission lambdas\n",
      "Read image data\n",
      "Read metadata about excitation/emission lambdas\n",
      "Read image data\n",
      "Read metadata about excitation/emission lambdas\n",
      "Read image data\n",
      "Read metadata about excitation/emission lambdas\n",
      "Read image data\n",
      "Read metadata about excitation/emission lambdas\n",
      "Read image data\n",
      "Read metadata about excitation/emission lambdas\n",
      "Read image data\n",
      "Read metadata about excitation/emission lambdas\n",
      "Read image data\n",
      "Read metadata about excitation/emission lambdas\n",
      "Read image data\n",
      "Read metadata about excitation/emission lambdas\n",
      "Read image data\n",
      "Read metadata about excitation/emission lambdas\n",
      "Read image data\n",
      "Read metadata about excitation/emission lambdas\n",
      "Read image data\n",
      "Read metadata about excitation/emission lambdas\n",
      "Read image data\n",
      "Read metadata about excitation/emission lambdas\n",
      "Read image data\n",
      "Read metadata about excitation/emission lambdas\n",
      "Read image data\n",
      "Read metadata about excitation/emission lambdas\n",
      "Read image data\n",
      "Read metadata about excitation/emission lambdas\n",
      "Read image data\n",
      "Read metadata about excitation/emission lambdas\n",
      "Read image data\n",
      "Read metadata about excitation/emission lambdas\n",
      "Read image data\n",
      "Read metadata about excitation/emission lambdas\n",
      "Read image data\n",
      "Read metadata about excitation/emission lambdas\n",
      "Read image data\n",
      "Read metadata about excitation/emission lambdas\n",
      "Read image data\n",
      "Read metadata about excitation/emission lambdas\n",
      "Read image data\n",
      "Read metadata about excitation/emission lambdas\n",
      "Read image data\n",
      "Read metadata about excitation/emission lambdas\n",
      "Read image data\n",
      "Read metadata about excitation/emission lambdas\n",
      "Read image data\n",
      "Read metadata about excitation/emission lambdas\n",
      "Read image data\n",
      "Read metadata about excitation/emission lambdas\n",
      "Read image data\n",
      "Read metadata about excitation/emission lambdas\n",
      "Read image data\n",
      "Read metadata about excitation/emission lambdas\n",
      "Read image data\n",
      "Read metadata about excitation/emission lambdas\n",
      "Read image data\n",
      "Read metadata about excitation/emission lambdas\n",
      "Read image data\n",
      "Read metadata about excitation/emission lambdas\n",
      "Read image data\n",
      "Read metadata about excitation/emission lambdas\n",
      "Read image data\n",
      "Read metadata about excitation/emission lambdas\n",
      "Read image data\n",
      "Read metadata about excitation/emission lambdas\n",
      "Read image data\n",
      "Read metadata about excitation/emission lambdas\n",
      "Read image data\n",
      "Read metadata about excitation/emission lambdas\n",
      "Read image data\n",
      "Read metadata about excitation/emission lambdas\n",
      "Read image data\n",
      "Read metadata about excitation/emission lambdas\n",
      "Read image data\n",
      "Read metadata about excitation/emission lambdas\n",
      "Read image data\n",
      "Read metadata about excitation/emission lambdas\n",
      "Read image data\n",
      "Read metadata about excitation/emission lambdas\n",
      "Read image data\n",
      "Read metadata about excitation/emission lambdas\n",
      "Read image data\n"
     ]
    }
   ],
   "source": [
    "fdn = '/home/yike/phd/cancer_cells_img_seq/data/202306_imaging/'\n",
    "\n",
    "for sub_fdn in [i for i in os.listdir(fdn) if '.' not in i]:\n",
    "    fdn_new = os.path.join(fdn, sub_fdn)\n",
    "    fns = [i for i in os.listdir(fdn_new) if '.mat' in i]\n",
    "    \n",
    "    for fn in fns:\n",
    "        grid = fn.split('.')[0]\n",
    "        data = read_image(os.path.join(fdn_new, fn))\n",
    "        img = data['data']\n",
    "        wls = data['wavelengths']\n",
    "        \n",
    "        img_data = {}\n",
    "        img = img.astype(np.uint16)\n",
    "        for i, wl in enumerate(wls):\n",
    "            img_data['wls_{}_{}'.format(str(wl[0]), str(wl[1]))] = img[i].T\n",
    "            \n",
    "        np.savez_compressed(os.path.join(fdn_new, grid + '.npz'), **img_data)"
   ]
  },
  {
   "cell_type": "code",
   "execution_count": 8,
   "id": "touched-sentence",
   "metadata": {},
   "outputs": [
    {
     "data": {
      "text/plain": [
       "dict_keys(['wls_325_414', 'wls_343_414', 'wls_370_414', 'wls_343_451', 'wls_370_451', 'wls_373_451', 'wls_343_575', 'wls_393_575', 'wls_406_575', 'wls_441_575', 'wls_400_594', 'wls_406_594', 'wls_431_594', 'wls_480_594', 'wls_339_575'])"
      ]
     },
     "execution_count": 8,
     "metadata": {},
     "output_type": "execute_result"
    }
   ],
   "source": [
    "img_data.keys()"
   ]
  },
  {
   "cell_type": "markdown",
   "id": "subject-height",
   "metadata": {},
   "source": [
    "### Add brightfield images into each npz file"
   ]
  },
  {
   "cell_type": "code",
   "execution_count": 6,
   "id": "charming-database",
   "metadata": {},
   "outputs": [],
   "source": [
    "fdn = '/home/yike/phd/cancer_cells_img_seq/data/202306_imaging/'\n",
    "\n",
    "for sub_fdn in [i for i in os.listdir(fdn) if '.' not in i]:\n",
    "    fdn_new = os.path.join(fdn, sub_fdn)\n",
    "    fns = [i for i in os.listdir(fdn_new) if '.png' in i]\n",
    "    \n",
    "    for fn in fns:\n",
    "        grid = fn.split('.')[0]\n",
    "        \n",
    "        sample = plt.imread(os.path.join(fdn_new, fn))\n",
    "        # bottom width\n",
    "        v_white = (sample[:, :, 0] == 1).sum(axis=0)\n",
    "        bottom_w = int(v_white[v_white.argmin()])\n",
    "        # left or right width\n",
    "        h_white = (sample[:, :, 0] == 1).sum(axis=1)\n",
    "        side_w = int(h_white[h_white.argmin()] / 2)\n",
    "        # cropped sample\n",
    "        cropped_sample = sample[:-bottom_w, side_w: -side_w,:]\n",
    "        # resize the image with factor as 4 to shape (4096, 4096)\n",
    "        cropped_sample_4 = cv2.resize(cropped_sample, None, fx = 4, fy = 4)\n",
    "        \n",
    "        img = np.load(os.path.join(fdn_new, '{}.npz'.format(grid)))\n",
    "        raw = dict(img.items())\n",
    "\n",
    "        # add the brightefiled image to each cell\n",
    "        raw['brightfield'] = cropped_sample_4\n",
    "        # save the npz file with brightfield image\n",
    "        np.savez_compressed(os.path.join(fdn_new, '{}.npz'.format(grid)), **raw)"
   ]
  },
  {
   "cell_type": "code",
   "execution_count": null,
   "id": "hairy-equality",
   "metadata": {},
   "outputs": [],
   "source": []
  },
  {
   "cell_type": "code",
   "execution_count": null,
   "id": "prescription-modification",
   "metadata": {},
   "outputs": [],
   "source": []
  },
  {
   "cell_type": "code",
   "execution_count": null,
   "id": "dressed-spell",
   "metadata": {},
   "outputs": [],
   "source": []
  },
  {
   "cell_type": "code",
   "execution_count": null,
   "id": "advisory-thunder",
   "metadata": {},
   "outputs": [],
   "source": []
  },
  {
   "cell_type": "code",
   "execution_count": null,
   "id": "designed-milwaukee",
   "metadata": {},
   "outputs": [],
   "source": []
  },
  {
   "cell_type": "code",
   "execution_count": null,
   "id": "prospective-cemetery",
   "metadata": {},
   "outputs": [],
   "source": []
  }
 ],
 "metadata": {
  "kernelspec": {
   "display_name": "Python 3 (ipykernel)",
   "language": "python",
   "name": "python3"
  },
  "language_info": {
   "codemirror_mode": {
    "name": "ipython",
    "version": 3
   },
   "file_extension": ".py",
   "mimetype": "text/x-python",
   "name": "python",
   "nbconvert_exporter": "python",
   "pygments_lexer": "ipython3",
   "version": "3.8.5"
  }
 },
 "nbformat": 4,
 "nbformat_minor": 5
}
