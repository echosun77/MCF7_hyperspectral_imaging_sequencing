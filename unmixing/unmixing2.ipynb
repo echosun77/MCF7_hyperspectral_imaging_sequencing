{
 "cells": [
  {
   "cell_type": "code",
   "execution_count": 1,
   "id": "unknown-austria",
   "metadata": {},
   "outputs": [],
   "source": [
    "import numpy as np\n",
    "import pandas as pd\n",
    "import os\n",
    "\n",
    "import pickle\n",
    "\n",
    "import seaborn as sns\n",
    "import matplotlib.pyplot as plt"
   ]
  },
  {
   "cell_type": "code",
   "execution_count": 2,
   "id": "champion-inspector",
   "metadata": {},
   "outputs": [],
   "source": [
    "from scipy.optimize import lsq_linear\n",
    "def unmixing(features, cell, n_feature):\n",
    "    b = features['ave_intensity'].loc[cell][: n_feature] \n",
    "    wls = features['wavelengths'].loc[cell][: n_feature]\n",
    "\n",
    "    A = np.empty((len(b), len(mols)))\n",
    "    for wl in wls:\n",
    "        for i, mol in enumerate(mols):\n",
    "            j = [j for j, col in enumerate(dfs[mol].columns[:-1]) \n",
    "                 if (dfs[mol].columns[j] <= wl[0] < dfs[mol].columns[j+1])][0]\n",
    "            if wl[0] - dfs[mol].columns[j] > dfs[mol].columns[j + 1]- wl[0]:\n",
    "                j += 1\n",
    "            ex = dfs[mol].columns[j]\n",
    "\n",
    "            k = [k for k, idx in enumerate(dfs[mol].index[:-1]) \n",
    "                 if (dfs[mol].index[k] > wl[1] >= dfs[mol].index[k+1])][0]\n",
    "            if dfs[mol].index[k] - wl[1] < wl[1] - dfs[mol].index[k + 1]:\n",
    "                k += 1\n",
    "            em = dfs[mol].index[k]\n",
    "\n",
    "            A[wls.index(wl), i] = dfs[mol].at[em, ex]\n",
    "    res = lsq_linear(A, b, bounds=(0, np.inf), method='trf')\n",
    "\n",
    "    return res"
   ]
  },
  {
   "cell_type": "code",
   "execution_count": 3,
   "id": "broken-bobby",
   "metadata": {},
   "outputs": [],
   "source": [
    "fdn_save = '/home/yike/phd/cancer_cells_img_seq/figures/segmentation/background_subtraction/'\n",
    "with open(fdn_save + 'bkg_sub_features.pkl','rb') as f:\n",
    "    features = pickle.load(f)\n",
    "features = features.set_index('image')"
   ]
  },
  {
   "cell_type": "code",
   "execution_count": 14,
   "id": "seventh-collar",
   "metadata": {},
   "outputs": [],
   "source": [
    "mols = ['Free NAD(P)H', 'Protein bound NAD(P)H'] # lipofusionA\n",
    "\n",
    "fdn = '/home/yike/phd/cancer_cells_img_seq/scripts/spetra_matrixs/matrix_data_range/'\n",
    "dfs = {name: pd.read_csv(fdn + name.replace(' ', '_') + '.tsv', sep='\\t', index_col=0) for name in mols}\n",
    "\n",
    "for mol in mols:\n",
    "    dfs[mol].index = dfs[mol].index.astype('float')\n",
    "    dfs[mol].columns = dfs[mol].columns.astype('float')"
   ]
  },
  {
   "cell_type": "code",
   "execution_count": 5,
   "id": "alpha-geometry",
   "metadata": {},
   "outputs": [],
   "source": [
    "n_feature = 7\n",
    "\n",
    "abundance = pd.DataFrame([], columns=mols)\n",
    "for cell in features.index:\n",
    "    abundance.loc[cell] = unmixing(features, cell, n_feature)['x']"
   ]
  },
  {
   "cell_type": "code",
   "execution_count": 6,
   "id": "fancy-adobe",
   "metadata": {},
   "outputs": [],
   "source": [
    "abundance.to_csv('/home/yike/phd/cancer_cells_img_seq/data/unmixing/abundance_2mols.tsv', sep='\\t')"
   ]
  },
  {
   "cell_type": "markdown",
   "id": "cross-hebrew",
   "metadata": {},
   "source": [
    "# Linear least squares"
   ]
  },
  {
   "cell_type": "code",
   "execution_count": 8,
   "id": "honest-baltimore",
   "metadata": {},
   "outputs": [],
   "source": [
    "# load features\n",
    "fdn_save = '/home/yike/phd/cancer_cells_img_seq/figures/segmentation/background_subtraction/'\n",
    "with open(fdn_save + 'bkg_sub_features.pkl','rb') as f:\n",
    "    features = pickle.load(f)\n",
    "features = features.set_index('image')\n",
    "\n",
    "# load matrix\n",
    "mols = ['Free NAD(P)H', 'Protein bound NAD(P)H'] # lipofusionA\n",
    "\n",
    "fdn = '/home/yike/phd/cancer_cells_img_seq/scripts/spetra_matrixs/matrix_data_range/'\n",
    "dfs = {name: pd.read_csv(fdn + name.replace(' ', '_') + '.tsv', sep='\\t', index_col=0) for name in mols}\n",
    "\n",
    "for mol in mols:\n",
    "    dfs[mol].index = dfs[mol].index.astype('float')\n",
    "    dfs[mol].columns = dfs[mol].columns.astype('float')\n",
    "    \n",
    "# load abundance\n",
    "abundance = pd.read_csv('/home/yike/phd/cancer_cells_img_seq/data/unmixing/abundance_2mols.tsv', \n",
    "                        sep='\\t', index_col=0)"
   ]
  },
  {
   "cell_type": "code",
   "execution_count": 38,
   "id": "seventh-faith",
   "metadata": {},
   "outputs": [],
   "source": [
    "def LLS(features, cell, n_feature):\n",
    "    b = np.array(features['ave_intensity'].loc[cell][: n_feature])\n",
    "    wls = features['wavelengths'].loc[cell][: n_feature]\n",
    "\n",
    "    A = np.empty((len(b), len(mols)))\n",
    "    for wl in wls:\n",
    "        for i, mol in enumerate(mols):\n",
    "            j = [j for j, col in enumerate(dfs[mol].columns[:-1]) \n",
    "                 if (dfs[mol].columns[j] <= wl[0] < dfs[mol].columns[j+1])][0]\n",
    "            if wl[0] - dfs[mol].columns[j] > dfs[mol].columns[j + 1]- wl[0]:\n",
    "                j += 1\n",
    "            ex = dfs[mol].columns[j]\n",
    "\n",
    "            k = [k for k, idx in enumerate(dfs[mol].index[:-1]) \n",
    "                 if (dfs[mol].index[k] > wl[1] >= dfs[mol].index[k+1])][0]\n",
    "            if dfs[mol].index[k] - wl[1] < wl[1] - dfs[mol].index[k + 1]:\n",
    "                k += 1\n",
    "            em = dfs[mol].index[k]\n",
    "\n",
    "            A[wls.index(wl), i] = dfs[mol].at[em, ex]\n",
    "    \n",
    "    LLS = np.empty(b.shape)\n",
    "    for m, mol in enumerate(mols):\n",
    "        LLS += (b - A[:, m] * abundance.loc[cell][mols[m]]) ** 2\n",
    "    \n",
    "    return LLS"
   ]
  },
  {
   "cell_type": "code",
   "execution_count": 87,
   "id": "italian-building",
   "metadata": {},
   "outputs": [],
   "source": [
    "mols = ['Free NAD(P)H', 'Protein bound NAD(P)H']\n",
    "n_feature = 7\n",
    "\n",
    "LLS_df = pd.DataFrame([], index = features.index, \n",
    "                      columns=['{} {}'.format(i[0], i[1]) for i in features.loc['C6_S40']['wavelengths'][:7]])\n",
    "for cell in features.index:\n",
    "    LLS_df.loc[cell] = LLS(features, cell, n_feature).astype('float')\n",
    "    \n",
    "for col in LLS_df.columns:\n",
    "    LLS_df[col] = LLS_df[col].astype('float')\n",
    "LLS_df.to_csv('/home/yike/phd/cancer_cells_img_seq/data/unmixing/LLS_2mols.tsv', sep='\\t')"
   ]
  },
  {
   "cell_type": "code",
   "execution_count": 93,
   "id": "separate-collins",
   "metadata": {},
   "outputs": [],
   "source": [
    "# load single cells\n",
    "fdn_cell = '/home/yike/phd/cancer_cells_img_seq/figures/segmentation/cancer100cells/'\n",
    "sig_cells = [i.split('.')[0] for i in os.listdir(fdn_cell) if '.npz' in i]\n",
    "    \n",
    "# log10 and filter single cells\n",
    "LLS_df = pd.read_csv('/home/yike/phd/cancer_cells_img_seq/data/unmixing/LLS_2mols.tsv', \n",
    "                     sep='\\t', index_col=0)\n",
    "log_LLS = np.log10(LLS_df.loc[sig_cells])\n",
    "log_LLS.index = [i[1] for i in log_LLS.index.str.split('_')]\n",
    "# log_LLS = log_LLS.loc[log_LLS.index.sort_values()]"
   ]
  },
  {
   "cell_type": "code",
   "execution_count": 101,
   "id": "chronic-evans",
   "metadata": {
    "collapsed": true
   },
   "outputs": [
    {
     "data": {
      "image/png": "[encoded data removed]",
      "text/plain": [
       "<Figure size 432x288 with 2 Axes>"
      ]
     },
     "metadata": {
      "needs_background": "light"
     },
     "output_type": "display_data"
    }
   ],
   "source": [
    "fig, ax = plt.subplots()\n",
    "\n",
    "sns.heatmap(log_LLS, cbar_kws={'label': 'log10(linear squares)'}, cmap='viridis', )\n",
    "ax.set(xlabel=\"\", ylabel=\"\")\n",
    "\n",
    "fig.savefig('/home/yike/phd/cancer_cells_img_seq/data/unmixing/linear_squares.png',\n",
    "            dpi=150, bbox_inches='tight')"
   ]
  },
  {
   "cell_type": "code",
   "execution_count": null,
   "id": "relative-jamaica",
   "metadata": {},
   "outputs": [],
   "source": []
  },
  {
   "cell_type": "code",
   "execution_count": null,
   "id": "aging-mainland",
   "metadata": {},
   "outputs": [],
   "source": []
  },
  {
   "cell_type": "code",
   "execution_count": null,
   "id": "inner-jenny",
   "metadata": {},
   "outputs": [],
   "source": []
  },
  {
   "cell_type": "code",
   "execution_count": null,
   "id": "tribal-spyware",
   "metadata": {},
   "outputs": [],
   "source": []
  },
  {
   "cell_type": "code",
   "execution_count": null,
   "id": "dress-tourist",
   "metadata": {},
   "outputs": [],
   "source": []
  },
  {
   "cell_type": "code",
   "execution_count": null,
   "id": "normal-factory",
   "metadata": {},
   "outputs": [],
   "source": []
  }
 ],
 "metadata": {
  "kernelspec": {
   "display_name": "Python 3 (ipykernel)",
   "language": "python",
   "name": "python3"
  },
  "language_info": {
   "codemirror_mode": {
    "name": "ipython",
    "version": 3
   },
   "file_extension": ".py",
   "mimetype": "text/x-python",
   "name": "python",
   "nbconvert_exporter": "python",
   "pygments_lexer": "ipython3",
   "version": "3.8.5"
  }
 },
 "nbformat": 4,
 "nbformat_minor": 5
}
